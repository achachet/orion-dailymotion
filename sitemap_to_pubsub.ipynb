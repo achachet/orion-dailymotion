{
 "cells": [
  {
   "cell_type": "code",
   "execution_count": 1,
   "metadata": {
    "collapsed": true
   },
   "outputs": [],
   "source": [
    "from utils import *"
   ]
  },
  {
   "cell_type": "code",
   "execution_count": 2,
   "metadata": {
    "collapsed": true
   },
   "outputs": [],
   "source": [
    "def process_sitemap(url):\n",
    "    print(\"Parsing Sitemap %s\" % (url))\n",
    "\n",
    "    sitemap = requests.get(url)\n",
    "    sitemap = gunzip_bytes_obj(sitemap.content)\n",
    "\n",
    "    soup = BeautifulSoup(sitemap, 'lxml')\n",
    "    videos = soup.find_all(\"url\")\n",
    "\n",
    "    #print(\"The number of videos are {0}\".format(len(videos)))\n",
    "    videos_to_publish = []\n",
    "    for video in videos:\n",
    "        video_url = video.findNext(\"loc\").text\n",
    "        video_lastmod = video.findNext(\"lastmod\").text\n",
    "        video_lastmod_ts = timestamp_str_to_unix(video_lastmod)\n",
    "        video_xid = video_url.split('/video/')[1]\n",
    "        if video_lastmod_ts>reference_timestamp:\n",
    "            #print(\"%s : %s\" % (video_xid, video_lastmod))\n",
    "            videos_to_publish.append(video_xid)\n",
    "            \n",
    "    message_ids = publish_pubsub_messages(videos_to_publish, topic_path)\n",
    "    print(message_ids)"
   ]
  },
  {
   "cell_type": "code",
   "execution_count": null,
   "metadata": {},
   "outputs": [],
   "source": [
    "dm_sitemap_url = 'http://www.dailymotion.com/map-regular.xml'\n",
    "reference_timestamp = timestamp_str_to_unix('2018-01-01T00:00:00+01:00')\n",
    "\n",
    "sitemap_index = requests.get(dm_sitemap_url)\n",
    "\n",
    "soup = BeautifulSoup(sitemap_index.text, 'lxml')\n",
    "sitemaps = soup.find_all(\"sitemap\")\n",
    "sitemap_urls = [sitemap.findNext(\"loc\").text for sitemap in sitemaps]\n",
    "p = multiprocessing.Pool(5)\n",
    "p.map(process_sitemap, sitemap_urls)\n",
    "#for sitemap_url in sitemap_urls: process_sitemap(sitemap_url)"
   ]
  }
 ],
 "metadata": {
  "kernelspec": {
   "display_name": "Python 3",
   "language": "python",
   "name": "python3"
  },
  "language_info": {
   "codemirror_mode": {
    "name": "ipython",
    "version": 3
   },
   "file_extension": ".py",
   "mimetype": "text/x-python",
   "name": "python",
   "nbconvert_exporter": "python",
   "pygments_lexer": "ipython3",
   "version": "3.6.3"
  }
 },
 "nbformat": 4,
 "nbformat_minor": 2
}
