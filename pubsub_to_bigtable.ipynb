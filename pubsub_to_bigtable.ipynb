{
 "cells": [
  {
   "cell_type": "code",
   "execution_count": 1,
   "metadata": {},
   "outputs": [],
   "source": [
    "from utils import *"
   ]
  },
  {
   "cell_type": "code",
   "execution_count": 2,
   "metadata": {},
   "outputs": [
    {
     "name": "stdout",
     "output_type": "stream",
     "text": [
      "Got 4 messages\n",
      "allow_embed, True, <class 'bool'>\n",
      "audience, None, <class 'NoneType'>\n",
      "audience_total, None, <class 'NoneType'>\n",
      "channel, sport, <class 'str'>\n",
      "channel.created_time, 1317111562, <class 'int'>\n",
      "channel.description, Retrouvez toutes les vidéos de sport, professionnel et amateur : foot, rugby, tennis, basket, hand, volley, golf, cyclisme, catch, skate, surf, et snowboard., <class 'str'>\n",
      "channel.id, sport, <class 'str'>\n",
      "channel.name, Sport, <class 'str'>\n",
      "channel.slug, sport, <class 'str'>\n",
      "country, FR, <class 'str'>\n",
      "created_time, 1132948001, <class 'int'>\n",
      "custom_classification, [], <class 'list'>\n",
      "description, Jonglage  et épée de feu au <br />\"Nocturnes de Ferrières\". <br /> <br />Alexis DIENNA <br />Coordinateur cascade - Chorégraphe de combat - Cascadeur. <br /> <br />Contact : alexis.dienna@gmail.com <br /> <br />https://fr.linkedin.com/in/alexisdienna <br />http://escrimecascade.centerblog.net/ <br />http://www.imdb.com/name/nm5862057 <br /> <br />Articles de presse : https://goo.gl/3E26HY <br /> <br />#AlexisDienna #EscrimeCascade, <class 'str'>\n",
      "duration, 78, <class 'int'>\n",
      "embed_url, http://www.dailymotion.com/embed/video/x83g, <class 'str'>\n",
      "explicit, False, <class 'bool'>\n",
      "filmstrip_60_url, None, <class 'NoneType'>\n",
      "genres, [], <class 'list'>\n",
      "geoblocking, ['allow'], <class 'list'>\n",
      "geoloc, [2.7888107299805, 48.092241200309], <class 'list'>\n"
     ]
    },
    {
     "ename": "TypeError",
     "evalue": "sequence item 0: expected str instance, float found",
     "output_type": "error",
     "traceback": [
      "\u001b[0;31m---------------------------------------------------------------------------\u001b[0m",
      "\u001b[0;31mTypeError\u001b[0m                                 Traceback (most recent call last)",
      "\u001b[0;32m<ipython-input-2-d805a43e2c50>\u001b[0m in \u001b[0;36m<module>\u001b[0;34m()\u001b[0m\n\u001b[1;32m      9\u001b[0m         \u001b[0mxid\u001b[0m \u001b[0;34m=\u001b[0m \u001b[0mb64decode\u001b[0m\u001b[0;34m(\u001b[0m\u001b[0mmsg\u001b[0m\u001b[0;34m[\u001b[0m\u001b[0;34m'message'\u001b[0m\u001b[0;34m]\u001b[0m\u001b[0;34m[\u001b[0m\u001b[0;34m'data'\u001b[0m\u001b[0;34m]\u001b[0m\u001b[0;34m)\u001b[0m\u001b[0;34m.\u001b[0m\u001b[0mdecode\u001b[0m\u001b[0;34m(\u001b[0m\u001b[0;34m'utf-8'\u001b[0m\u001b[0;34m)\u001b[0m\u001b[0;34m\u001b[0m\u001b[0m\n\u001b[1;32m     10\u001b[0m         \u001b[0mdata\u001b[0m \u001b[0;34m=\u001b[0m \u001b[0mvideo_data\u001b[0m\u001b[0;34m(\u001b[0m\u001b[0mxid\u001b[0m\u001b[0;34m)\u001b[0m\u001b[0;34m\u001b[0m\u001b[0m\n\u001b[0;32m---> 11\u001b[0;31m         \u001b[0mwrite_video\u001b[0m\u001b[0;34m(\u001b[0m\u001b[0mdata\u001b[0m\u001b[0;34m)\u001b[0m\u001b[0;34m\u001b[0m\u001b[0m\n\u001b[0m\u001b[1;32m     12\u001b[0m         \u001b[0macknowledge\u001b[0m\u001b[0;34m(\u001b[0m\u001b[0mmsg\u001b[0m\u001b[0;34m,\u001b[0m \u001b[0msubscription_path\u001b[0m\u001b[0;34m)\u001b[0m\u001b[0;34m\u001b[0m\u001b[0m\n\u001b[1;32m     13\u001b[0m         \u001b[0mprint\u001b[0m\u001b[0;34m(\u001b[0m\u001b[0mxid\u001b[0m\u001b[0;34m)\u001b[0m\u001b[0;34m\u001b[0m\u001b[0m\n",
      "\u001b[0;32m~/Documents/Orion/Product/orion-dailymotion/utils.py\u001b[0m in \u001b[0;36mwrite_video\u001b[0;34m(data)\u001b[0m\n\u001b[1;32m    113\u001b[0m         \u001b[0;32mif\u001b[0m \u001b[0mvalue\u001b[0m \u001b[0;32mis\u001b[0m \u001b[0;32mnot\u001b[0m \u001b[0;32mNone\u001b[0m\u001b[0;34m:\u001b[0m\u001b[0;34m\u001b[0m\u001b[0m\n\u001b[1;32m    114\u001b[0m             \u001b[0;32mif\u001b[0m \u001b[0mtype\u001b[0m\u001b[0;34m(\u001b[0m\u001b[0mvalue\u001b[0m\u001b[0;34m)\u001b[0m\u001b[0;34m==\u001b[0m\u001b[0mstr\u001b[0m\u001b[0;34m:\u001b[0m \u001b[0mvalue\u001b[0m \u001b[0;34m=\u001b[0m \u001b[0mvalue\u001b[0m\u001b[0;34m.\u001b[0m\u001b[0mencode\u001b[0m\u001b[0;34m(\u001b[0m\u001b[0;34m'utf-8'\u001b[0m\u001b[0;34m)\u001b[0m\u001b[0;34m\u001b[0m\u001b[0m\n\u001b[0;32m--> 115\u001b[0;31m             \u001b[0;32mif\u001b[0m \u001b[0mtype\u001b[0m\u001b[0;34m(\u001b[0m\u001b[0mvalue\u001b[0m\u001b[0;34m)\u001b[0m\u001b[0;34m==\u001b[0m\u001b[0mlist\u001b[0m\u001b[0;34m:\u001b[0m \u001b[0mvalue\u001b[0m \u001b[0;34m=\u001b[0m \u001b[0;34m(\u001b[0m\u001b[0;34m','\u001b[0m\u001b[0;34m.\u001b[0m\u001b[0mjoin\u001b[0m\u001b[0;34m(\u001b[0m\u001b[0mvalue\u001b[0m\u001b[0;34m)\u001b[0m\u001b[0;34m)\u001b[0m\u001b[0;34m.\u001b[0m\u001b[0mencode\u001b[0m\u001b[0;34m(\u001b[0m\u001b[0;34m'utf-8'\u001b[0m\u001b[0;34m)\u001b[0m\u001b[0;34m\u001b[0m\u001b[0m\n\u001b[0m\u001b[1;32m    116\u001b[0m             row.set_cell(video_column_family_id.encode('utf-8'), # column_family\n\u001b[1;32m    117\u001b[0m                          \u001b[0mkey\u001b[0m\u001b[0;34m.\u001b[0m\u001b[0mencode\u001b[0m\u001b[0;34m(\u001b[0m\u001b[0;34m'utf-8'\u001b[0m\u001b[0;34m)\u001b[0m\u001b[0;34m,\u001b[0m                         \u001b[0;31m# column\u001b[0m\u001b[0;34m\u001b[0m\u001b[0m\n",
      "\u001b[0;31mTypeError\u001b[0m: sequence item 0: expected str instance, float found"
     ]
    }
   ],
   "source": [
    "reference_timestamp = timestamp_str_to_unix('2018-01-01T00:00:00+01:00')\n",
    "messages_returned = 1\n",
    "i=0\n",
    "while messages_returned>0:\n",
    "    messages=get_pubsub_messages(subscription_path, nb_messages=1000)\n",
    "    messages_returned = len(messages)\n",
    "    print(\"Got %s messages\" % messages_returned)\n",
    "    for msg in messages:\n",
    "        xid = b64decode(msg['message']['data']).decode('utf-8')\n",
    "        data = video_data(xid)\n",
    "        write_video(data)\n",
    "        acknowledge(msg, subscription_path)\n",
    "        print(xid)"
   ]
  }
 ],
 "metadata": {
  "kernelspec": {
   "display_name": "Python 3",
   "language": "python",
   "name": "python3"
  },
  "language_info": {
   "codemirror_mode": {
    "name": "ipython",
    "version": 3
   },
   "file_extension": ".py",
   "mimetype": "text/x-python",
   "name": "python",
   "nbconvert_exporter": "python",
   "pygments_lexer": "ipython3",
   "version": "3.6.3"
  }
 },
 "nbformat": 4,
 "nbformat_minor": 2
}
